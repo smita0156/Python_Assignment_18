{
 "cells": [
  {
   "cell_type": "code",
   "execution_count": null,
   "id": "4fc8f4f5-7020-4ee6-8b82-cd9992e08c35",
   "metadata": {},
   "outputs": [],
   "source": [
    "1. Create a zoo.py file first. Define the hours() function, which prints the string &#39;Open 9-5 daily&#39;.\n",
    "Then, use the interactive interpreter to import the zoo module and call its hours() function."
   ]
  },
  {
   "cell_type": "code",
   "execution_count": null,
   "id": "58f03e62-d96e-4b6e-beef-d03b19115669",
   "metadata": {},
   "outputs": [],
   "source": [
    "\n",
    "\n",
    "from google.colab import files\n",
    "uploaded = files.upload()\n",
    "     "
   ]
  },
  {
   "cell_type": "code",
   "execution_count": null,
   "id": "186fee88-fc0d-4f11-8ba5-939e86f638d3",
   "metadata": {},
   "outputs": [],
   "source": [
    "Upload widget is only available when the cell has been executed in the current browser session. Please rerun this cell to enable.\n",
    "Saving zoo.py to zoo.py\n"
   ]
  },
  {
   "cell_type": "code",
   "execution_count": null,
   "id": "1cddd553-e471-4726-aa02-96bb1f6e0a6a",
   "metadata": {},
   "outputs": [],
   "source": [
    "\n",
    "import zoo\n",
    "from importlib import reload\n",
    "reload(zoo)\n",
    "\n",
    "zoo.hours()\n",
    "     "
   ]
  },
  {
   "cell_type": "code",
   "execution_count": null,
   "id": "5bf436d0-6f73-4134-93ab-9da94dc15258",
   "metadata": {},
   "outputs": [],
   "source": [
    "Open 9-5 daily\n"
   ]
  },
  {
   "cell_type": "code",
   "execution_count": null,
   "id": "e9399245-1c97-4ab8-ba59-50f83b202aa8",
   "metadata": {},
   "outputs": [],
   "source": [
    "2. In the interactive interpreter, import the zoo module as menagerie and call its hours() function."
   ]
  },
  {
   "cell_type": "code",
   "execution_count": null,
   "id": "eac314cb-39d4-4399-a597-c89dede9d7fc",
   "metadata": {},
   "outputs": [],
   "source": [
    "\n",
    "import zoo as menagerie\n",
    "menagerie.hours()\n",
    "     "
   ]
  },
  {
   "cell_type": "code",
   "execution_count": null,
   "id": "793a8590-9169-4037-a509-6d7dadcbeb3f",
   "metadata": {},
   "outputs": [],
   "source": [
    "Open 9-5 daily\n"
   ]
  },
  {
   "cell_type": "code",
   "execution_count": null,
   "id": "23e7e23e-e8b2-4b8f-9171-dd1b739fb619",
   "metadata": {},
   "outputs": [],
   "source": [
    "3. Using the interpreter, explicitly import and call the hours() function from zoo."
   ]
  },
  {
   "cell_type": "code",
   "execution_count": null,
   "id": "791ffca3-3818-455e-aa63-144d985ae6ad",
   "metadata": {},
   "outputs": [],
   "source": [
    "\n",
    "from zoo import hours\n",
    "hours()\n",
    "     "
   ]
  },
  {
   "cell_type": "code",
   "execution_count": null,
   "id": "b083a19f-ee14-4b5f-9e73-93be70d7ede0",
   "metadata": {},
   "outputs": [],
   "source": [
    "Open 9-5 daily\n"
   ]
  },
  {
   "cell_type": "code",
   "execution_count": null,
   "id": "d805ecc3-0603-46fa-99ce-1e22039f080e",
   "metadata": {},
   "outputs": [],
   "source": [
    "4. Import the hours() function as info and call it."
   ]
  },
  {
   "cell_type": "code",
   "execution_count": null,
   "id": "36d098a2-1a91-4004-864a-e0e8d48859a0",
   "metadata": {},
   "outputs": [],
   "source": [
    "\n",
    "from zoo import hours as info\n",
    "info()\n",
    "     "
   ]
  },
  {
   "cell_type": "code",
   "execution_count": null,
   "id": "8c3a6ed3-b3a9-449a-a4c9-b3d82e185a62",
   "metadata": {},
   "outputs": [],
   "source": [
    "Open 9-5 daily\n"
   ]
  },
  {
   "cell_type": "code",
   "execution_count": null,
   "id": "f2e1361b-0f11-4ab6-9916-0135c44c58df",
   "metadata": {},
   "outputs": [],
   "source": [
    "5. Create a plain dictionary with the key-value pairs &#39;a&#39;: 1, &#39;b&#39;: 2, and &#39;c&#39;: 3, and print it out."
   ]
  },
  {
   "cell_type": "code",
   "execution_count": 5,
   "id": "b02cd3e7-5149-44af-b086-591aed8db057",
   "metadata": {},
   "outputs": [
    {
     "data": {
      "text/plain": [
       "{'a': 1, 'b': 2, 'c': 3}"
      ]
     },
     "execution_count": 5,
     "metadata": {},
     "output_type": "execute_result"
    }
   ],
   "source": [
    "\n",
    "plain = {'a': 1, 'b': 2, 'c': 3}\n",
    "plain\n",
    "     "
   ]
  },
  {
   "cell_type": "code",
   "execution_count": null,
   "id": "83539963-cc50-46b8-bc46-36013d878bbd",
   "metadata": {},
   "outputs": [],
   "source": [
    "6.Make an OrderedDict called fancy from the same pairs listed in 5 and print it. Did it print in the\n",
    "same order as plain?"
   ]
  },
  {
   "cell_type": "code",
   "execution_count": 6,
   "id": "d7e0e696-6b6b-4718-bcb9-2053ffdb6ad6",
   "metadata": {},
   "outputs": [
    {
     "data": {
      "text/plain": [
       "OrderedDict([('a', 1), ('b', 2), ('c', 3)])"
      ]
     },
     "execution_count": 6,
     "metadata": {},
     "output_type": "execute_result"
    }
   ],
   "source": [
    "\n",
    "#Yes\n",
    "from collections import OrderedDict\n",
    "fancy = OrderedDict([('a', 1), ('b', 2), ('c', 3)])\n",
    "fancy\n"
   ]
  },
  {
   "cell_type": "code",
   "execution_count": null,
   "id": "a6b2c571-9386-4d02-9253-f6f54cdb36ee",
   "metadata": {},
   "outputs": [],
   "source": [
    "7. Make a default dictionary called dict_of_lists and pass it the argument list. Make the list\n",
    "dict_of_lists[&#39;a&#39;] and append the value &#39;something for a&#39; to it in one assignment. Print\n",
    "dict_of_lists[&#39;a&#39;]."
   ]
  },
  {
   "cell_type": "code",
   "execution_count": 7,
   "id": "5a8e3612-8c80-477f-b65f-7e9dba036dd8",
   "metadata": {},
   "outputs": [
    {
     "data": {
      "text/plain": [
       "['something for a']"
      ]
     },
     "execution_count": 7,
     "metadata": {},
     "output_type": "execute_result"
    }
   ],
   "source": [
    "\n",
    "from collections import defaultdict\n",
    "dict_of_lists = defaultdict(list)\n",
    "dict_of_lists['a'].append('something for a')\n",
    "dict_of_lists['a']\n",
    "     "
   ]
  },
  {
   "cell_type": "code",
   "execution_count": null,
   "id": "e189a7b2-8f98-4282-b533-18cecc8ab1f9",
   "metadata": {},
   "outputs": [],
   "source": []
  }
 ],
 "metadata": {
  "kernelspec": {
   "display_name": "Python 3 (ipykernel)",
   "language": "python",
   "name": "python3"
  },
  "language_info": {
   "codemirror_mode": {
    "name": "ipython",
    "version": 3
   },
   "file_extension": ".py",
   "mimetype": "text/x-python",
   "name": "python",
   "nbconvert_exporter": "python",
   "pygments_lexer": "ipython3",
   "version": "3.10.6"
  }
 },
 "nbformat": 4,
 "nbformat_minor": 5
}
